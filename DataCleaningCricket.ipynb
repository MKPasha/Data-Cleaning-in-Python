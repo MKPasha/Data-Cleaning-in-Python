{
 "cells": [
  {
   "cell_type": "markdown",
   "metadata": {},
   "source": [
    "# Data Cleaning in Pandas 2"
   ]
  },
  {
   "cell_type": "markdown",
   "metadata": {},
   "source": [
    "In this dataset, I have analyzed some ODI Cricket data. The data was obtained from cricinfo."
   ]
  },
  {
   "cell_type": "markdown",
   "metadata": {},
   "source": [
    "#### Task\n",
    "1. How many rows and columns are present in this dataset? \n",
    "\n",
    "2. Are there any missing values present in this dataset? If so, in which columns? \n",
    "\n",
    "3. What are the data types in this dataset? \n",
    "\n",
    "5. Rename the column names accordingly: 1. 'Mat':'Match', 2. 'Inns':'Innings', 3. 'NO': 'NotOut', 4. 'HS': 'Highest_score', 5.   'Ave': 'Average', 6. 'BF': 'Balls_Faced', 7. 'SR': 'Strike_Rate'. \n",
    "\n",
    "6. Remove the columns: 'BF', 0, 4s, and 6s.\n",
    "\n",
    "7. Show the top 10 batsmen with the highest batting average. If players have the same average, reorder them according to the      highest number of centuries. Is there any Bangladeshi player present in the Top 10?\n",
    "\n",
    "8. Which player(s) had played for the longest and the shortest period of time in this dataset?\n",
    "\n",
    "9. Based on the country column, how many players played for \"Asia XI\"?\n",
    "\n",
    "10. Save the cleaned file in a csv file named \"batsmen\".\n"
   ]
  },
  {
   "cell_type": "markdown",
   "metadata": {},
   "source": [
    "#### My Approach\n",
    "\n",
    "To answer the above questions, I started the proceeding by creating a function. All the wrangling were done inside the function. Later I answered all the questions."
   ]
  },
  {
   "cell_type": "code",
   "execution_count": 54,
   "metadata": {},
   "outputs": [],
   "source": [
    "# importing necessary libraries\n",
    "import pandas as pd"
   ]
  },
  {
   "cell_type": "code",
   "execution_count": 55,
   "metadata": {},
   "outputs": [],
   "source": [
    "# Import Data\n",
    "def data_prep(filename):\n",
    "    \n",
    "    #Read data into a csv file\n",
    "    df = pd.read_csv(filename)\n",
    "    \n",
    "    # Renaming the columns\n",
    "    df = (df.rename(columns={\"Mat\": \"Match\", \"NO\": \"NotOut\",\"HS\": \"Highest_score\",\"Ave\": \"Average\",\n",
    "                            \"Ave\": \"Average\",\"SR\": \"Strike_Rate\"}))\n",
    "\n",
    "    # splitting the span column to claculate years played\n",
    "    df[['Start_career', 'End_career']] = df['Span'].str.split(\"-\", expand=True).astype(int)\n",
    "    df['Years_active'] = df['End_career'] - df['Start_career']\n",
    "    \n",
    "    # Creating columns for Name and Teams/Country represented \n",
    "    \n",
    "    df[['Player', 'Country']] = df['Player'].str.split(\"(\", expand=True)\n",
    "    df['Country'] = df[\"Country\"].str.replace(\")\",\"\", regex=False)\n",
    "    df[[\"Team 1\", \"Team 2\", \"Team 3\"]] = df['Country'].str.split(\"/\", expand=True).fillna(\"None\")\n",
    "    \n",
    "    # dropping the columns\n",
    "    df.drop(columns = ['0', '4s', '6s', 'Span', 'Country', 'BF'], inplace=True)\n",
    "   \n",
    "    \n",
    "    \n",
    "    return df"
   ]
  },
  {
   "cell_type": "code",
   "execution_count": 56,
   "metadata": {},
   "outputs": [
    {
     "data": {
      "text/html": [
       "<div>\n",
       "<style scoped>\n",
       "    .dataframe tbody tr th:only-of-type {\n",
       "        vertical-align: middle;\n",
       "    }\n",
       "\n",
       "    .dataframe tbody tr th {\n",
       "        vertical-align: top;\n",
       "    }\n",
       "\n",
       "    .dataframe thead th {\n",
       "        text-align: right;\n",
       "    }\n",
       "</style>\n",
       "<table border=\"1\" class=\"dataframe\">\n",
       "  <thead>\n",
       "    <tr style=\"text-align: right;\">\n",
       "      <th></th>\n",
       "      <th>Player</th>\n",
       "      <th>Match</th>\n",
       "      <th>Inns</th>\n",
       "      <th>NotOut</th>\n",
       "      <th>Runs</th>\n",
       "      <th>Highest_score</th>\n",
       "      <th>Average</th>\n",
       "      <th>Strike_Rate</th>\n",
       "      <th>100</th>\n",
       "      <th>50</th>\n",
       "      <th>Start_career</th>\n",
       "      <th>End_career</th>\n",
       "      <th>Years_active</th>\n",
       "      <th>Team 1</th>\n",
       "      <th>Team 2</th>\n",
       "      <th>Team 3</th>\n",
       "    </tr>\n",
       "  </thead>\n",
       "  <tbody>\n",
       "    <tr>\n",
       "      <th>0</th>\n",
       "      <td>SR Tendulkar</td>\n",
       "      <td>463</td>\n",
       "      <td>452</td>\n",
       "      <td>41</td>\n",
       "      <td>18426</td>\n",
       "      <td>200*</td>\n",
       "      <td>44.83</td>\n",
       "      <td>86.23</td>\n",
       "      <td>49</td>\n",
       "      <td>96</td>\n",
       "      <td>1989</td>\n",
       "      <td>2012</td>\n",
       "      <td>23</td>\n",
       "      <td>INDIA</td>\n",
       "      <td>None</td>\n",
       "      <td>None</td>\n",
       "    </tr>\n",
       "    <tr>\n",
       "      <th>1</th>\n",
       "      <td>KC Sangakkara</td>\n",
       "      <td>404</td>\n",
       "      <td>380</td>\n",
       "      <td>41</td>\n",
       "      <td>14234</td>\n",
       "      <td>169</td>\n",
       "      <td>41.98</td>\n",
       "      <td>78.86</td>\n",
       "      <td>25</td>\n",
       "      <td>93</td>\n",
       "      <td>2000</td>\n",
       "      <td>2015</td>\n",
       "      <td>15</td>\n",
       "      <td>Asia</td>\n",
       "      <td>ICC</td>\n",
       "      <td>SL</td>\n",
       "    </tr>\n",
       "    <tr>\n",
       "      <th>2</th>\n",
       "      <td>RT Ponting</td>\n",
       "      <td>375</td>\n",
       "      <td>365</td>\n",
       "      <td>39</td>\n",
       "      <td>13704</td>\n",
       "      <td>164</td>\n",
       "      <td>42.03</td>\n",
       "      <td>80.39</td>\n",
       "      <td>30</td>\n",
       "      <td>82</td>\n",
       "      <td>1995</td>\n",
       "      <td>2012</td>\n",
       "      <td>17</td>\n",
       "      <td>AUS</td>\n",
       "      <td>ICC</td>\n",
       "      <td>None</td>\n",
       "    </tr>\n",
       "    <tr>\n",
       "      <th>3</th>\n",
       "      <td>ST Jayasuriya</td>\n",
       "      <td>445</td>\n",
       "      <td>433</td>\n",
       "      <td>18</td>\n",
       "      <td>13430</td>\n",
       "      <td>189</td>\n",
       "      <td>32.36</td>\n",
       "      <td>91.20</td>\n",
       "      <td>28</td>\n",
       "      <td>68</td>\n",
       "      <td>1989</td>\n",
       "      <td>2011</td>\n",
       "      <td>22</td>\n",
       "      <td>Asia</td>\n",
       "      <td>SL</td>\n",
       "      <td>None</td>\n",
       "    </tr>\n",
       "    <tr>\n",
       "      <th>4</th>\n",
       "      <td>DPMD Jayawardene</td>\n",
       "      <td>448</td>\n",
       "      <td>418</td>\n",
       "      <td>39</td>\n",
       "      <td>12650</td>\n",
       "      <td>144</td>\n",
       "      <td>33.37</td>\n",
       "      <td>78.96</td>\n",
       "      <td>19</td>\n",
       "      <td>77</td>\n",
       "      <td>1998</td>\n",
       "      <td>2015</td>\n",
       "      <td>17</td>\n",
       "      <td>Asia</td>\n",
       "      <td>SL</td>\n",
       "      <td>None</td>\n",
       "    </tr>\n",
       "  </tbody>\n",
       "</table>\n",
       "</div>"
      ],
      "text/plain": [
       "              Player  Match  Inns  NotOut   Runs Highest_score  Average  \\\n",
       "0      SR Tendulkar     463   452      41  18426          200*    44.83   \n",
       "1     KC Sangakkara     404   380      41  14234           169    41.98   \n",
       "2        RT Ponting     375   365      39  13704           164    42.03   \n",
       "3     ST Jayasuriya     445   433      18  13430           189    32.36   \n",
       "4  DPMD Jayawardene     448   418      39  12650           144    33.37   \n",
       "\n",
       "   Strike_Rate  100  50  Start_career  End_career  Years_active Team 1 Team 2  \\\n",
       "0        86.23   49  96          1989        2012            23  INDIA   None   \n",
       "1        78.86   25  93          2000        2015            15   Asia    ICC   \n",
       "2        80.39   30  82          1995        2012            17    AUS    ICC   \n",
       "3        91.20   28  68          1989        2011            22   Asia     SL   \n",
       "4        78.96   19  77          1998        2015            17   Asia     SL   \n",
       "\n",
       "  Team 3  \n",
       "0   None  \n",
       "1     SL  \n",
       "2   None  \n",
       "3   None  \n",
       "4   None  "
      ]
     },
     "execution_count": 56,
     "metadata": {},
     "output_type": "execute_result"
    }
   ],
   "source": [
    "# seeing the file\n",
    "df = data_prep('batsman.csv')\n",
    "df.head()"
   ]
  },
  {
   "cell_type": "code",
   "execution_count": 57,
   "metadata": {},
   "outputs": [
    {
     "name": "stdout",
     "output_type": "stream",
     "text": [
      "<class 'pandas.core.frame.DataFrame'>\n",
      "RangeIndex: 92 entries, 0 to 91\n",
      "Data columns (total 16 columns):\n",
      " #   Column         Non-Null Count  Dtype  \n",
      "---  ------         --------------  -----  \n",
      " 0   Player         92 non-null     object \n",
      " 1   Match          92 non-null     int64  \n",
      " 2   Inns           92 non-null     int64  \n",
      " 3   NotOut         92 non-null     int64  \n",
      " 4   Runs           92 non-null     int64  \n",
      " 5   Highest_score  92 non-null     object \n",
      " 6   Average        92 non-null     float64\n",
      " 7   Strike_Rate    92 non-null     float64\n",
      " 8   100            92 non-null     int64  \n",
      " 9   50             92 non-null     int64  \n",
      " 10  Start_career   92 non-null     int32  \n",
      " 11  End_career     92 non-null     int32  \n",
      " 12  Years_active   92 non-null     int32  \n",
      " 13  Team 1         92 non-null     object \n",
      " 14  Team 2         92 non-null     object \n",
      " 15  Team 3         92 non-null     object \n",
      "dtypes: float64(2), int32(3), int64(6), object(5)\n",
      "memory usage: 10.5+ KB\n",
      "None\n"
     ]
    }
   ],
   "source": [
    "# Checking the basic information of the data.\n",
    "print(df.info(verbose=True, show_counts=True))"
   ]
  },
  {
   "cell_type": "markdown",
   "metadata": {},
   "source": [
    "With a few newly created rows, there are 16 columns and 92 rows. None of the rows contain any missing values. The types of data across the datasets are string, float and integer."
   ]
  },
  {
   "cell_type": "code",
   "execution_count": 58,
   "metadata": {
    "scrolled": true
   },
   "outputs": [
    {
     "data": {
      "text/plain": [
       "Player           0\n",
       "Match            0\n",
       "Inns             0\n",
       "NotOut           0\n",
       "Runs             0\n",
       "Highest_score    0\n",
       "Average          0\n",
       "Strike_Rate      0\n",
       "100              0\n",
       "50               0\n",
       "Start_career     0\n",
       "End_career       0\n",
       "Years_active     0\n",
       "Team 1           0\n",
       "Team 2           0\n",
       "Team 3           0\n",
       "dtype: int64"
      ]
     },
     "execution_count": 58,
     "metadata": {},
     "output_type": "execute_result"
    }
   ],
   "source": [
    "# The command adds up the null values in each column.\n",
    "df.isnull().sum()"
   ]
  },
  {
   "cell_type": "code",
   "execution_count": 59,
   "metadata": {},
   "outputs": [
    {
     "data": {
      "text/html": [
       "<div>\n",
       "<style scoped>\n",
       "    .dataframe tbody tr th:only-of-type {\n",
       "        vertical-align: middle;\n",
       "    }\n",
       "\n",
       "    .dataframe tbody tr th {\n",
       "        vertical-align: top;\n",
       "    }\n",
       "\n",
       "    .dataframe thead th {\n",
       "        text-align: right;\n",
       "    }\n",
       "</style>\n",
       "<table border=\"1\" class=\"dataframe\">\n",
       "  <thead>\n",
       "    <tr style=\"text-align: right;\">\n",
       "      <th></th>\n",
       "      <th>Player</th>\n",
       "      <th>Years_active</th>\n",
       "    </tr>\n",
       "  </thead>\n",
       "  <tbody>\n",
       "    <tr>\n",
       "      <th>0</th>\n",
       "      <td>SR Tendulkar</td>\n",
       "      <td>23</td>\n",
       "    </tr>\n",
       "  </tbody>\n",
       "</table>\n",
       "</div>"
      ],
      "text/plain": [
       "          Player  Years_active\n",
       "0  SR Tendulkar             23"
      ]
     },
     "execution_count": 59,
     "metadata": {},
     "output_type": "execute_result"
    }
   ],
   "source": [
    "df[['Player', 'Years_active']].sort_values(by='Years_active', ascending=False).head(1)"
   ]
  },
  {
   "cell_type": "markdown",
   "metadata": {},
   "source": [
    "Sachin Played for the longest Period. 23 Years."
   ]
  },
  {
   "cell_type": "code",
   "execution_count": 60,
   "metadata": {},
   "outputs": [
    {
     "data": {
      "text/html": [
       "<div>\n",
       "<style scoped>\n",
       "    .dataframe tbody tr th:only-of-type {\n",
       "        vertical-align: middle;\n",
       "    }\n",
       "\n",
       "    .dataframe tbody tr th {\n",
       "        vertical-align: top;\n",
       "    }\n",
       "\n",
       "    .dataframe thead th {\n",
       "        text-align: right;\n",
       "    }\n",
       "</style>\n",
       "<table border=\"1\" class=\"dataframe\">\n",
       "  <thead>\n",
       "    <tr style=\"text-align: right;\">\n",
       "      <th></th>\n",
       "      <th>Player</th>\n",
       "      <th>Years_active</th>\n",
       "    </tr>\n",
       "  </thead>\n",
       "  <tbody>\n",
       "    <tr>\n",
       "      <th>82</th>\n",
       "      <td>AJ Finch</td>\n",
       "      <td>7</td>\n",
       "    </tr>\n",
       "  </tbody>\n",
       "</table>\n",
       "</div>"
      ],
      "text/plain": [
       "       Player  Years_active\n",
       "82  AJ Finch              7"
      ]
     },
     "execution_count": 60,
     "metadata": {},
     "output_type": "execute_result"
    }
   ],
   "source": [
    "df[['Player', 'Years_active']].sort_values(by='Years_active', ascending=False).tail(1)"
   ]
  },
  {
   "cell_type": "markdown",
   "metadata": {},
   "source": [
    "AJ Finch has the shortest career, only 7 years long."
   ]
  },
  {
   "cell_type": "code",
   "execution_count": 61,
   "metadata": {},
   "outputs": [
    {
     "data": {
      "text/html": [
       "<div>\n",
       "<style scoped>\n",
       "    .dataframe tbody tr th:only-of-type {\n",
       "        vertical-align: middle;\n",
       "    }\n",
       "\n",
       "    .dataframe tbody tr th {\n",
       "        vertical-align: top;\n",
       "    }\n",
       "\n",
       "    .dataframe thead th {\n",
       "        text-align: right;\n",
       "    }\n",
       "</style>\n",
       "<table border=\"1\" class=\"dataframe\">\n",
       "  <thead>\n",
       "    <tr style=\"text-align: right;\">\n",
       "      <th></th>\n",
       "      <th>Player</th>\n",
       "      <th>Team 1</th>\n",
       "      <th>Team 2</th>\n",
       "      <th>Team 3</th>\n",
       "      <th>Average</th>\n",
       "    </tr>\n",
       "  </thead>\n",
       "  <tbody>\n",
       "    <tr>\n",
       "      <th>5</th>\n",
       "      <td>V Kohli</td>\n",
       "      <td>INDIA</td>\n",
       "      <td>None</td>\n",
       "      <td>None</td>\n",
       "      <td>58.07</td>\n",
       "    </tr>\n",
       "    <tr>\n",
       "      <th>45</th>\n",
       "      <td>MG Bevan</td>\n",
       "      <td>AUS</td>\n",
       "      <td>None</td>\n",
       "      <td>None</td>\n",
       "      <td>53.58</td>\n",
       "    </tr>\n",
       "    <tr>\n",
       "      <th>16</th>\n",
       "      <td>AB de Villiers</td>\n",
       "      <td>Afr</td>\n",
       "      <td>SA</td>\n",
       "      <td>None</td>\n",
       "      <td>53.50</td>\n",
       "    </tr>\n",
       "    <tr>\n",
       "      <th>60</th>\n",
       "      <td>JE Root</td>\n",
       "      <td>ENG</td>\n",
       "      <td>None</td>\n",
       "      <td>None</td>\n",
       "      <td>51.33</td>\n",
       "    </tr>\n",
       "    <tr>\n",
       "      <th>10</th>\n",
       "      <td>MS Dhoni</td>\n",
       "      <td>Asia</td>\n",
       "      <td>INDIA</td>\n",
       "      <td>None</td>\n",
       "      <td>50.57</td>\n",
       "    </tr>\n",
       "    <tr>\n",
       "      <th>28</th>\n",
       "      <td>HM Amla</td>\n",
       "      <td>SA</td>\n",
       "      <td>None</td>\n",
       "      <td>None</td>\n",
       "      <td>49.46</td>\n",
       "    </tr>\n",
       "    <tr>\n",
       "      <th>19</th>\n",
       "      <td>RG Sharma</td>\n",
       "      <td>INDIA</td>\n",
       "      <td>None</td>\n",
       "      <td>None</td>\n",
       "      <td>48.60</td>\n",
       "    </tr>\n",
       "    <tr>\n",
       "      <th>24</th>\n",
       "      <td>LRPL Taylor</td>\n",
       "      <td>NZ</td>\n",
       "      <td>None</td>\n",
       "      <td>None</td>\n",
       "      <td>48.20</td>\n",
       "    </tr>\n",
       "    <tr>\n",
       "      <th>77</th>\n",
       "      <td>MEK Hussey</td>\n",
       "      <td>AUS</td>\n",
       "      <td>None</td>\n",
       "      <td>None</td>\n",
       "      <td>48.15</td>\n",
       "    </tr>\n",
       "    <tr>\n",
       "      <th>58</th>\n",
       "      <td>KS Williamson</td>\n",
       "      <td>NZ</td>\n",
       "      <td>None</td>\n",
       "      <td>None</td>\n",
       "      <td>47.48</td>\n",
       "    </tr>\n",
       "  </tbody>\n",
       "</table>\n",
       "</div>"
      ],
      "text/plain": [
       "             Player Team 1 Team 2 Team 3  Average\n",
       "5          V Kohli   INDIA   None   None    58.07\n",
       "45        MG Bevan     AUS   None   None    53.58\n",
       "16  AB de Villiers     Afr     SA   None    53.50\n",
       "60         JE Root     ENG   None   None    51.33\n",
       "10        MS Dhoni    Asia  INDIA   None    50.57\n",
       "28         HM Amla      SA   None   None    49.46\n",
       "19       RG Sharma   INDIA   None   None    48.60\n",
       "24     LRPL Taylor      NZ   None   None    48.20\n",
       "77      MEK Hussey     AUS   None   None    48.15\n",
       "58   KS Williamson      NZ   None   None    47.48"
      ]
     },
     "execution_count": 61,
     "metadata": {},
     "output_type": "execute_result"
    }
   ],
   "source": [
    "df[['Player', 'Team 1', 'Team 2','Team 3', 'Average']].sort_values(by='Average', ascending=False).head(10)"
   ]
  },
  {
   "cell_type": "markdown",
   "metadata": {},
   "source": [
    "Here are the top 10 batsmen with highest Average. No, Bangladeshi Batsman in the top 10."
   ]
  },
  {
   "cell_type": "markdown",
   "metadata": {},
   "source": [
    "Let's do following to figure out how many players have played for Asia XI."
   ]
  },
  {
   "cell_type": "code",
   "execution_count": 62,
   "metadata": {},
   "outputs": [
    {
     "data": {
      "text/plain": [
       "Team 1\n",
       "False    79\n",
       "True     13\n",
       "Name: count, dtype: int64"
      ]
     },
     "execution_count": 62,
     "metadata": {},
     "output_type": "execute_result"
    }
   ],
   "source": [
    "(df['Team 1'] == \"Asia\").value_counts()"
   ]
  },
  {
   "cell_type": "code",
   "execution_count": 63,
   "metadata": {},
   "outputs": [
    {
     "data": {
      "text/plain": [
       "Team 2\n",
       "False    92\n",
       "Name: count, dtype: int64"
      ]
     },
     "execution_count": 63,
     "metadata": {},
     "output_type": "execute_result"
    }
   ],
   "source": [
    "(df['Team 2'] == \"Asia\").value_counts()"
   ]
  },
  {
   "cell_type": "code",
   "execution_count": 64,
   "metadata": {},
   "outputs": [
    {
     "data": {
      "text/plain": [
       "Team 3\n",
       "False    92\n",
       "Name: count, dtype: int64"
      ]
     },
     "execution_count": 64,
     "metadata": {},
     "output_type": "execute_result"
    }
   ],
   "source": [
    "(df['Team 3'] == \"Asia\").value_counts()"
   ]
  },
  {
   "cell_type": "markdown",
   "metadata": {},
   "source": [
    "So, only 13 players have played for Asia XI."
   ]
  },
  {
   "cell_type": "code",
   "execution_count": 65,
   "metadata": {},
   "outputs": [],
   "source": [
    "# Saving the new file in csv mode as 'batsmen'\n",
    "df.to_csv('batsmen.csv', index=False)\n"
   ]
  }
 ],
 "metadata": {
  "kernelspec": {
   "display_name": "Python 3",
   "language": "python",
   "name": "python3"
  },
  "language_info": {
   "codemirror_mode": {
    "name": "ipython",
    "version": 3
   },
   "file_extension": ".py",
   "mimetype": "text/x-python",
   "name": "python",
   "nbconvert_exporter": "python",
   "pygments_lexer": "ipython3",
   "version": "3.8.5"
  }
 },
 "nbformat": 4,
 "nbformat_minor": 5
}
