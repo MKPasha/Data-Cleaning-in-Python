{
 "cells": [
  {
   "cell_type": "markdown",
   "metadata": {},
   "source": [
    "# Data Cleaning in Pandas 1"
   ]
  },
  {
   "cell_type": "markdown",
   "metadata": {},
   "source": [
    "Data cleaning is one of the fundamental tasks for Data professionals. Here, I have presented with some basic cleaning/wrangling operations. The dataset is sales data and contains information like ID, date of birth (dob), gender, city, last purchase date and income(in $ amount)."
   ]
  },
  {
   "cell_type": "code",
   "execution_count": 23,
   "metadata": {},
   "outputs": [],
   "source": [
    "# Import necessary libraries\n",
    "import pandas as pd"
   ]
  },
  {
   "cell_type": "code",
   "execution_count": 24,
   "metadata": {},
   "outputs": [
    {
     "name": "stdout",
     "output_type": "stream",
     "text": [
      "2.0.3\n"
     ]
    }
   ],
   "source": [
    "# check pandas version\n",
    "print(pd.__version__)"
   ]
  },
  {
   "cell_type": "markdown",
   "metadata": {},
   "source": [
    "### Task:\n",
    "1. Load the raw data file into a pandas DataFrame. \n",
    "2. Check the data for missing values and duplicated records. \n",
    "3. Remove any duplicate records from the data. \n",
    "4. Fill in any missing values in the gender, marital_status, and city columns with the mode of the respective columns. \n",
    "5. Create a new column named \"age\" that contains the age of each customer based on their date of birth. \n",
    "6. Create a new column named \"income_group\" that categorizes customers into three groups based on their income amount- \"Low\",      \"Medium\", \"High\" based on each 33% percentile.\n",
    "7. Create another column \"score_group\" that categorizes customers into three groups based on their score -\"Poor\", \"Fair\", and      \"Good\" based on each 33% percentile. \n",
    "8. Keep only the records of 2018 and beyonds. \n",
    "9. The ID column here is rather long.Shorten it, keep only the last ten characters.\n",
    "10. Save the cleaned data to a new CSV file named sales_demo_final_data.csv. \n"
   ]
  },
  {
   "cell_type": "markdown",
   "metadata": {},
   "source": [
    "### My Approach:\n",
    "\n",
    "To prepare the data based on the above instructions, I followed the below process. First, I created a function \"dataprep\", and inside this function, I make all the operations. So, the functio returns a cleaned dataset."
   ]
  },
  {
   "cell_type": "code",
   "execution_count": 25,
   "metadata": {},
   "outputs": [],
   "source": [
    "def dataprep(filename):\n",
    "    \n",
    "    # Read the data in a .csv file\n",
    "    df = pd.read_csv(filename)\n",
    "    \n",
    "    # Remove duplicate rows\n",
    "    df.drop_duplicates(inplace=True)\n",
    "    \n",
    "    # Keeping only the last ten characters of the ID \n",
    "    df['id'] = df['id'].str[:10]\n",
    "    \n",
    "    # converting dob to datetime\n",
    "    df['dob'] = pd.to_datetime(df['dob'])\n",
    "    \n",
    "    \n",
    "    \n",
    "    # Creating age column\n",
    "    df['age'] = ((pd.to_datetime('today') - df['dob']).dt.days/365.2425).floordiv(1)\n",
    "    \n",
    "   \n",
    "    \n",
    "    # Find out the modes for gender, marital_status and city. Taking the first mode in case of multiple modes\n",
    "    mode_city = df['city'].mode().values[0]\n",
    "    mode_gender = df['gender'].mode().values[0]\n",
    "    mode_marital_status = df['marital_status'].mode().values[0]\n",
    "    \n",
    "    #filling the missing values of the above columns by their modes\n",
    "    \n",
    "    df['city'].fillna(mode_city, inplace=True)\n",
    "    df['gender'].fillna(mode_gender, inplace=True)\n",
    "    df['marital_status'].fillna(mode_marital_status, inplace=True)\n",
    "    \n",
    "    # Creating income groups using qcut to divide the column into three groups\n",
    "    df['income_group'] = pd.qcut(df['income'], q=[0, 0.33, 0.67, 1], labels=['Low', 'Medium', 'High'])\n",
    "    \n",
    "    # Creating score groups\n",
    "    df['score_group'] = pd.qcut(df['score'], q = [0, 0.33, 0.67, 1], labels=['Poor', 'Fair', 'Good'])\n",
    "    \n",
    "    # converting the last_purchase_date to a date column\n",
    "    df['last_purchase_date'] = pd.to_datetime(df['last_purchase_date'], format='mixed')\n",
    "    \n",
    "    # Masking for the purchase date 2018 and beyond\n",
    "    mask_purchase_date = df['last_purchase_date'].dt.year > 2017\n",
    "    \n",
    "    # filtering the data according to the above mask\n",
    "    df = df[mask_purchase_date]\n",
    "    \n",
    "   \n",
    "    return df"
   ]
  },
  {
   "cell_type": "code",
   "execution_count": 26,
   "metadata": {},
   "outputs": [
    {
     "data": {
      "text/html": [
       "<div>\n",
       "<style scoped>\n",
       "    .dataframe tbody tr th:only-of-type {\n",
       "        vertical-align: middle;\n",
       "    }\n",
       "\n",
       "    .dataframe tbody tr th {\n",
       "        vertical-align: top;\n",
       "    }\n",
       "\n",
       "    .dataframe thead th {\n",
       "        text-align: right;\n",
       "    }\n",
       "</style>\n",
       "<table border=\"1\" class=\"dataframe\">\n",
       "  <thead>\n",
       "    <tr style=\"text-align: right;\">\n",
       "      <th></th>\n",
       "      <th>id</th>\n",
       "      <th>gender</th>\n",
       "      <th>dob</th>\n",
       "      <th>income</th>\n",
       "      <th>marital_status</th>\n",
       "      <th>city</th>\n",
       "      <th>last_purchase_date</th>\n",
       "      <th>score</th>\n",
       "      <th>age</th>\n",
       "      <th>income_group</th>\n",
       "      <th>score_group</th>\n",
       "    </tr>\n",
       "  </thead>\n",
       "  <tbody>\n",
       "    <tr>\n",
       "      <th>0</th>\n",
       "      <td>660ba2ad-e</td>\n",
       "      <td>Male</td>\n",
       "      <td>1977-05-19</td>\n",
       "      <td>46532</td>\n",
       "      <td>Single</td>\n",
       "      <td>Oklahoma City</td>\n",
       "      <td>2020-06-22</td>\n",
       "      <td>63</td>\n",
       "      <td>46.0</td>\n",
       "      <td>Medium</td>\n",
       "      <td>Poor</td>\n",
       "    </tr>\n",
       "    <tr>\n",
       "      <th>1</th>\n",
       "      <td>6da25e92-a</td>\n",
       "      <td>Female</td>\n",
       "      <td>2000-11-28</td>\n",
       "      <td>13734</td>\n",
       "      <td>Single</td>\n",
       "      <td>Columbus</td>\n",
       "      <td>2020-08-04</td>\n",
       "      <td>43</td>\n",
       "      <td>22.0</td>\n",
       "      <td>Low</td>\n",
       "      <td>Poor</td>\n",
       "    </tr>\n",
       "    <tr>\n",
       "      <th>2</th>\n",
       "      <td>11261389-d</td>\n",
       "      <td>Female</td>\n",
       "      <td>1975-06-05</td>\n",
       "      <td>36282</td>\n",
       "      <td>Single</td>\n",
       "      <td>Miami</td>\n",
       "      <td>2022-08-21</td>\n",
       "      <td>882</td>\n",
       "      <td>48.0</td>\n",
       "      <td>Medium</td>\n",
       "      <td>Good</td>\n",
       "    </tr>\n",
       "    <tr>\n",
       "      <th>3</th>\n",
       "      <td>c9f67b5a-f</td>\n",
       "      <td>Male</td>\n",
       "      <td>1992-05-27</td>\n",
       "      <td>83451</td>\n",
       "      <td>Divorced</td>\n",
       "      <td>Colorado Springs</td>\n",
       "      <td>2020-12-18</td>\n",
       "      <td>653</td>\n",
       "      <td>31.0</td>\n",
       "      <td>High</td>\n",
       "      <td>Fair</td>\n",
       "    </tr>\n",
       "    <tr>\n",
       "      <th>4</th>\n",
       "      <td>d3024d83-c</td>\n",
       "      <td>Female</td>\n",
       "      <td>1987-09-13</td>\n",
       "      <td>58351</td>\n",
       "      <td>Divorced</td>\n",
       "      <td>New Orleans</td>\n",
       "      <td>2021-05-25</td>\n",
       "      <td>535</td>\n",
       "      <td>36.0</td>\n",
       "      <td>Medium</td>\n",
       "      <td>Fair</td>\n",
       "    </tr>\n",
       "  </tbody>\n",
       "</table>\n",
       "</div>"
      ],
      "text/plain": [
       "           id  gender        dob  income marital_status              city  \\\n",
       "0  660ba2ad-e    Male 1977-05-19   46532         Single     Oklahoma City   \n",
       "1  6da25e92-a  Female 2000-11-28   13734         Single          Columbus   \n",
       "2  11261389-d  Female 1975-06-05   36282         Single             Miami   \n",
       "3  c9f67b5a-f    Male 1992-05-27   83451       Divorced  Colorado Springs   \n",
       "4  d3024d83-c  Female 1987-09-13   58351       Divorced       New Orleans   \n",
       "\n",
       "  last_purchase_date  score   age income_group score_group  \n",
       "0         2020-06-22     63  46.0       Medium        Poor  \n",
       "1         2020-08-04     43  22.0          Low        Poor  \n",
       "2         2022-08-21    882  48.0       Medium        Good  \n",
       "3         2020-12-18    653  31.0         High        Fair  \n",
       "4         2021-05-25    535  36.0       Medium        Fair  "
      ]
     },
     "execution_count": 26,
     "metadata": {},
     "output_type": "execute_result"
    }
   ],
   "source": [
    "df = dataprep('raw_data.csv')\n",
    "df.head()"
   ]
  },
  {
   "cell_type": "code",
   "execution_count": 27,
   "metadata": {},
   "outputs": [
    {
     "name": "stdout",
     "output_type": "stream",
     "text": [
      "<class 'pandas.core.frame.DataFrame'>\n",
      "Index: 38573 entries, 0 to 984525\n",
      "Data columns (total 11 columns):\n",
      " #   Column              Non-Null Count  Dtype         \n",
      "---  ------              --------------  -----         \n",
      " 0   id                  38573 non-null  object        \n",
      " 1   gender              38573 non-null  object        \n",
      " 2   dob                 38573 non-null  datetime64[ns]\n",
      " 3   income              38573 non-null  int64         \n",
      " 4   marital_status      38573 non-null  object        \n",
      " 5   city                38573 non-null  object        \n",
      " 6   last_purchase_date  38573 non-null  datetime64[ns]\n",
      " 7   score               38573 non-null  int64         \n",
      " 8   age                 38573 non-null  float64       \n",
      " 9   income_group        38573 non-null  category      \n",
      " 10  score_group         38573 non-null  category      \n",
      "dtypes: category(2), datetime64[ns](2), float64(1), int64(2), object(4)\n",
      "memory usage: 3.0+ MB\n",
      "None\n"
     ]
    }
   ],
   "source": [
    "print(df.info())"
   ]
  },
  {
   "cell_type": "code",
   "execution_count": 17,
   "metadata": {},
   "outputs": [],
   "source": [
    "# Saving the cleaned data as a .csv file \n",
    "df.to_csv('sales_demo_final_data.csv', index=False)"
   ]
  }
 ],
 "metadata": {
  "kernelspec": {
   "display_name": "Python 3",
   "language": "python",
   "name": "python3"
  },
  "language_info": {
   "codemirror_mode": {
    "name": "ipython",
    "version": 3
   },
   "file_extension": ".py",
   "mimetype": "text/x-python",
   "name": "python",
   "nbconvert_exporter": "python",
   "pygments_lexer": "ipython3",
   "version": "3.8.5"
  }
 },
 "nbformat": 4,
 "nbformat_minor": 5
}
